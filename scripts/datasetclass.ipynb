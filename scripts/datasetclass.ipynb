{
 "cells": [
  {
   "cell_type": "code",
   "execution_count": 17,
   "metadata": {
    "collapsed": true,
    "deletable": true,
    "editable": true
   },
   "outputs": [],
   "source": [
    "import json"
   ]
  },
  {
   "cell_type": "code",
   "execution_count": 18,
   "metadata": {
    "collapsed": true,
    "deletable": true,
    "editable": true
   },
   "outputs": [],
   "source": [
    "class GW100DataSet(object):\n",
    "    \n",
    "    def __init__(self):\n",
    "        self.data = {'data': {}}\n",
    "    \n",
    "    @classmethod\n",
    "    def from_txt(cls, file_name):\n",
    "        set = GW100DataSet()\n",
    "        set.read_txt(file_name)\n",
    "        return set\n",
    "    \n",
    "    def name(self, post_fix=''):\n",
    "        return '%s_%s_%sv%s_%s%s' % (self.data['calc_type'], self.data['orbital'], self.data['code'][0], \n",
    "                            self.data['code_version'], self.data['basis_name'], post_fix)\n",
    "    \n",
    "    def read_txt(self, file_name):\n",
    "        with open(file_name, 'r') as f:\n",
    "            lines = f.readlines()\n",
    "        for line in lines:\n",
    "            if '=' in line:\n",
    "                d = line.strip().split('=')\n",
    "                if d[1].startswith('{'):\n",
    "                    self.data[d[0]] = json.loads(d[1])\n",
    "                else:\n",
    "                    self.data[d[0]] = d[1]\n",
    "            else:\n",
    "                d = line.strip().split( )\n",
    "                try:\n",
    "                    self.data['data'][d[0]]=float(d[1])\n",
    "                except (IndexError, ValueError):\n",
    "                    self.data['data'][d[0]]='null'\n",
    "                    \n",
    "    def dump_json(self, post):\n",
    "        with open(self.name(post)+'.json','w') as fp:\n",
    "            json.dump(self.data, fp, indent=4)"
   ]
  },
  {
   "cell_type": "code",
   "execution_count": 19,
   "metadata": {
    "collapsed": true,
    "deletable": true,
    "editable": true
   },
   "outputs": [],
   "source": [
    "dataset = GW100DataSet.from_txt('test_data/SCGW0PBE-TZVPP.txt')"
   ]
  },
  {
   "cell_type": "code",
   "execution_count": 20,
   "metadata": {
    "collapsed": false,
    "deletable": true,
    "editable": true
   },
   "outputs": [
    {
     "data": {
      "text/plain": [
       "'scGW0@PBE_HOMO_Fvx_def2-TZVPP'"
      ]
     },
     "execution_count": 20,
     "metadata": {},
     "output_type": "execute_result"
    }
   ],
   "source": [
    "dataset.name()"
   ]
  },
  {
   "cell_type": "code",
   "execution_count": 21,
   "metadata": {
    "collapsed": false,
    "deletable": true,
    "editable": true
   },
   "outputs": [],
   "source": [
    "dataset.dump_json(\"\")"
   ]
  },
  {
   "cell_type": "code",
   "execution_count": null,
   "metadata": {
    "collapsed": true,
    "deletable": true,
    "editable": true
   },
   "outputs": [],
   "source": [
    "ll\n"
   ]
  }
 ],
 "metadata": {
  "anaconda-cloud": {},
  "kernelspec": {
   "display_name": "Python 2",
   "language": "python",
   "name": "python2"
  },
  "language_info": {
   "codemirror_mode": {
    "name": "ipython",
    "version": 2
   },
   "file_extension": ".py",
   "mimetype": "text/x-python",
   "name": "python",
   "nbconvert_exporter": "python",
   "pygments_lexer": "ipython2",
   "version": "2.7.13"
  }
 },
 "nbformat": 4,
 "nbformat_minor": 1
}
